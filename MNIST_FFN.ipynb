{
  "cells": [
    {
      "cell_type": "code",
      "execution_count": 7,
      "metadata": {
        "colab": {
          "base_uri": "https://localhost:8080/"
        },
        "id": "wIn_i0qnH2pP",
        "outputId": "64e75f31-667c-4180-cef7-5bde74b717f9"
      },
      "outputs": [
        {
          "output_type": "stream",
          "name": "stdout",
          "text": [
            "2.8.2\n"
          ]
        }
      ],
      "source": [
        "from tensorflow.keras.models import Sequential\n",
        "from tensorflow.keras.layers import Dense\n",
        "from tensorflow.keras.optimizers import SGD\n",
        "from tensorflow.keras.datasets import mnist\n",
        "import cv2\n",
        "import matplotlib.image as mpimg\n",
        "import matplotlib.pyplot as plt\n",
        "from sklearn.preprocessing import LabelBinarizer\n",
        "from sklearn.metrics import classification_report\n",
        "##from tensorflow.keras.callbacks import Mode\n",
        "import numpy as np\n",
        "import matplotlib.pyplot as plt\n",
        "import seaborn as sns\n",
        "import tensorflow.keras.backend as k\n",
        "from tensorflow.keras.utils import *\n",
        "import pickle\n",
        "import tensorflow as tf\n",
        "import re\n",
        "print(tf.__version__)"
      ]
    },
    {
      "cell_type": "code",
      "execution_count": 8,
      "metadata": {
        "colab": {
          "base_uri": "https://localhost:8080/"
        },
        "id": "BIlTVVIfgLJx",
        "outputId": "15b81d8e-f9e2-48c7-ddf7-483bf59cf66d"
      },
      "outputs": [
        {
          "output_type": "stream",
          "name": "stdout",
          "text": [
            "2.8.2\n"
          ]
        }
      ],
      "source": [
        "from tensorflow import keras\n",
        "from tensorflow.keras.layers import *\n",
        "from tensorflow.keras.callbacks import ModelCheckpoint\n",
        "import numpy as np\n",
        "import matplotlib.pyplot as plt\n",
        "import seaborn as sns\n",
        "import tensorflow.keras.backend as K\n",
        "from tensorflow.keras.utils import *\n",
        "import pickle\n",
        "import tensorflow as tf\n",
        "import re\n",
        "print(tf.__version__)"
      ]
    },
    {
      "cell_type": "code",
      "execution_count": 9,
      "metadata": {
        "id": "_mhbsVXvRauG"
      },
      "outputs": [],
      "source": [
        "class Simple_Relu(object):\n",
        "  def __init__(self,hidden_layers,hidden_nodes,input_shape,output_shape):\n",
        "    self.hidden_layers=hidden_layers\n",
        "    self.hidden_nodes=hidden_nodes\n",
        "    self.input_shape=input_shape\n",
        "    self.output_shape=output_shape\n",
        "    self.initialize()\n",
        "  def initialize(self):\n",
        "    inputs=keras.Input(shape=(self.input_shape,))\n",
        "    X_in=Dense(units =self.hidden_nodes, activation = 'relu', name = \"layer_relu_1\")(inputs)\n",
        "    for i in range(0,self.hidden_layers-2):\n",
        "      X_in=Dense(units =self.hidden_nodes, activation = 'relu', name = \"layer_relu\"+str(i+2))(X_in)\n",
        "      \n",
        "    output_layer=Dense(units =self.output_shape, activation = \"softmax\", name = \"output\"+str(self.hidden_layers))(X_in)\n",
        "    self.model=keras.Model(inputs=inputs,outputs=output_layer,name=\"simple_relu\")\n",
        "\n"
      ]
    },
    {
      "cell_type": "code",
      "execution_count": 10,
      "metadata": {
        "id": "_oQMFfTkMm5-"
      },
      "outputs": [],
      "source": [
        "eps=0.1\n",
        "beta=4"
      ]
    },
    {
      "cell_type": "code",
      "execution_count": 11,
      "metadata": {
        "id": "ub5DYMnKC0Mz"
      },
      "outputs": [],
      "source": [
        "class softrelu(tf.keras.layers.Layer):\n",
        "  def __init__(self, **kwargs):\n",
        "        super(softrelu, self).__init__(**kwargs)\n",
        "  def build(self, input_shape):\n",
        "        super(softrelu, self).build(input_shape)  # Be sure to call this at the end\n",
        "  def call(self, x):\n",
        "    activation = tf.keras.backend.sigmoid(beta*x)\n",
        "    return activation\n",
        "\n",
        "  ##def compute_output_shape(self, input_shape):\n",
        "    ## return input_shape\n",
        "\n"
      ]
    },
    {
      "cell_type": "code",
      "source": [
        "from keras.utils.generic_utils import get_custom_objects\n",
        "def soft_relu(x):\n",
        "    return tf.keras.backend.sigmoid(beta*x)"
      ],
      "metadata": {
        "id": "EFObMUTExzG-"
      },
      "execution_count": 24,
      "outputs": []
    },
    {
      "cell_type": "markdown",
      "metadata": {
        "id": "0pFrkLJ2lN0Q"
      },
      "source": [
        "decoupled learning"
      ]
    },
    {
      "cell_type": "code",
      "execution_count": 25,
      "metadata": {
        "id": "6VL9_1cdlVGB"
      },
      "outputs": [],
      "source": [
        "class double_network(object):\n",
        "  def __init__(self,hidden_layers,hidden_nodes,input_shape,output_shape):\n",
        "    self.hidden_layers=hidden_layers\n",
        "\n",
        "    self.hidden_nodes=hidden_nodes\n",
        "\n",
        "    self.input_shape=input_shape\n",
        "\n",
        "    self.output_shape=output_shape\n",
        "\n",
        "    self.initialize()\n",
        "\n",
        "  def initialize(self):\n",
        "    inputs=keras.Input(shape=(self.input_shape,))\n",
        "    \n",
        "    X_feature=Dense(units =self.hidden_nodes,activation='linear',use_bias=True,kernel_initializer='glorot_uniform',bias_initializer='zeros',\n",
        "                    name = \"feature_network_L_1\")(inputs)\n",
        "\n",
        "    feature_input=tf.keras.layers.Activation('relu')(X_feature)\n",
        "    get_custom_objects().update({'custom_activation_soft': tf.keras.layers.Activation(soft_relu)})\n",
        "    soft_activation=tf.keras.layers.Activation(soft_relu, name='SpecialActivation_soft')(X_feature)\n",
        "\n",
        "    X_value=Dense(units =self.hidden_nodes,activation='linear',use_bias=True,kernel_initializer='glorot_uniform',bias_initializer='zeros',\n",
        "                  name = \"value_intermediate_L_1\")(inputs)\n",
        "\n",
        "                  \n",
        "    value_input=tf.keras.layers.Multiply()([X_value,soft_activation])\n",
        "    \n",
        "\n",
        "\n",
        "\n",
        "    for i in range(0,self.hidden_layers-2):\n",
        "\n",
        "      X_feature=Dense(units =self.hidden_nodes, activation = 'linear', name = \"feature_network_L_\"+str(i+2))(feature_input)\n",
        "\n",
        "      feature_input=tf.keras.layers.Activation('relu')(X_feature)\n",
        "      \n",
        "      get_custom_objects().update({'custom_activation_soft': tf.keras.layers.Activation(soft_relu)})\n",
        "      soft_activation=tf.keras.layers.Activation(soft_relu)(X_feature)\n",
        "      \n",
        "\n",
        "      X_value=Dense(units =self.hidden_nodes,activation='linear',use_bias=True,kernel_initializer='glorot_uniform',bias_initializer='zeros',\n",
        "                  name = \"value_intermediate_L_\"+str(i+2))(value_input)\n",
        "\n",
        "      value_input=tf.keras.layers.Multiply(name = \"multiply_L_\"+str(i+2))([X_value,soft_activation])\n",
        "      \n",
        "       \n",
        "\n",
        "\n",
        "      \n",
        "    output_layer=Dense(units =self.output_shape, activation = \"softmax\", name = \"layer_relu\"+str(self.hidden_layers))(value_input)\n",
        "\n",
        "    self.model=keras.Model(inputs=inputs,outputs=output_layer,name=\"gated_decopupled_model\")\n",
        "\n",
        "    \n",
        "  \n"
      ]
    },
    {
      "cell_type": "markdown",
      "metadata": {
        "id": "9iFge3PJlrxS"
      },
      "source": [
        "FLNPF "
      ]
    },
    {
      "cell_type": "code",
      "execution_count": 13,
      "metadata": {
        "id": "nvv-UvrKxdQ3"
      },
      "outputs": [],
      "source": [
        "from keras.utils.generic_utils import get_custom_objects\n",
        "def custom_activation(x):\n",
        "    return tf.keras.backend.sign(tf.keras.backend.relu(x))"
      ]
    },
    {
      "cell_type": "code",
      "execution_count": 17,
      "metadata": {
        "id": "54vYd8YllnmU"
      },
      "outputs": [],
      "source": [
        "class FLNPF_II(object):\n",
        "  def __init__(self,hidden_layers,hidden_nodes,input_shape,output_shape):\n",
        "    self.hidden_layers=hidden_layers\n",
        "    self.hidden_nodes=hidden_nodes\n",
        "    self.input_shape=input_shape\n",
        "    self.output_shape=output_shape\n",
        "    self.initialize()\n",
        "  def initialize(self):\n",
        "    inputs=keras.Input(shape=(self.input_shape,))\n",
        "    \n",
        "    X_feature=Dense(units =self.hidden_nodes,activation='relu',use_bias=True,kernel_initializer='glorot_uniform',bias_initializer='zeros',\n",
        "                    name = \"feature_network_L_1\")(inputs)\n",
        "\n",
        "    X_value=Dense(units =self.hidden_nodes,activation='linear',use_bias=True,kernel_initializer='glorot_uniform',bias_initializer='zeros',\n",
        "                  name = \"value_intermediate_L_1\")(inputs)\n",
        "    get_custom_objects().update({'custom_activation': tf.keras.layers.Activation(custom_activation)})\n",
        "    hard_activation=tf.keras.layers.Activation(custom_activation, name='SpecialActivation')(X_feature)\n",
        "\n",
        "    value_input=tf.keras.layers.Multiply()([X_value,hard_activation])\n",
        "    \n",
        "\n",
        "\n",
        "\n",
        "    for i in range(0,self.hidden_layers-2):\n",
        "\n",
        "      X_feature=Dense(units =self.hidden_nodes, activation = 'relu', name = \"feature_network_L_\"+str(i+2))(X_feature)\n",
        "\n",
        "      X_value=Dense(units =self.hidden_nodes,activation='linear',use_bias=True,kernel_initializer='glorot_uniform',bias_initializer='zeros',\n",
        "                  name = \"value_intermediate_L_\"+str(i+2))(value_input)\n",
        "      get_custom_objects().update({'custom_activation': tf.keras.layers.Activation(custom_activation)})\n",
        "      hard_activation=tf.keras.layers.Activation(custom_activation)(X_feature)\n",
        "\n",
        "      value_input=tf.keras.layers.Multiply()([X_value,hard_activation])\n",
        "      \n",
        "       \n",
        "\n",
        "\n",
        "      \n",
        "    output_layer=Dense(units =self.output_shape, activation = \"softmax\", name = \"VALUE_NETWORK_OUTPUT\"+str(self.hidden_layers))(value_input)\n",
        "\n",
        "    self.model=keras.Model(inputs=inputs,outputs=output_layer,name=\"fixed_learning_npf_II_model\")\n",
        "    "
      ]
    },
    {
      "cell_type": "code",
      "execution_count": 26,
      "metadata": {
        "id": "50Zkub0EkqRl"
      },
      "outputs": [],
      "source": [
        "def load_data():\n",
        "  ((trainX, trainY), (testX, testY)) = mnist.load_data()\n",
        "  trainX = trainX.reshape((trainX.shape[0], 28 * 28 * 1))\n",
        "  testX = testX.reshape((testX.shape[0], 28 * 28 * 1))\n",
        "  trainX = trainX.astype(\"float32\") / 255.0\n",
        "  testX = testX.astype(\"float32\") / 255.0\n",
        "  lb = LabelBinarizer()\n",
        "  trainY = lb.fit_transform(trainY)\n",
        "  testY = lb.transform(testY)\n",
        "  return trainX ,trainY,testX,testY"
      ]
    },
    {
      "cell_type": "markdown",
      "source": [
        "decoupled_learning"
      ],
      "metadata": {
        "id": "lo3oTI4Kxd3H"
      }
    },
    {
      "cell_type": "code",
      "source": [
        "trainX,trainY,testX,testY=load_data()\n",
        "model=double_network(6,128,784,10)\n",
        "layer=model.model.layers\n",
        "model.model.summary()\n",
        "print(model.model.layers)\n",
        "model.model.compile(\n",
        "optimizer=tf.keras.optimizers.Adam(0.0003),  # Optimizer\n",
        "loss=\"categorical_crossentropy\", metrics=\"accuracy\")\n",
        "model.model.fit(trainX,trainY,epochs=5,batch_size=32,validation_data=(testX,testY))"
      ],
      "metadata": {
        "colab": {
          "base_uri": "https://localhost:8080/"
        },
        "id": "zLQq9F7Pxc7s",
        "outputId": "ac04d9df-ccf7-431a-d672-e9c8a6f4352a"
      },
      "execution_count": 27,
      "outputs": [
        {
          "output_type": "stream",
          "name": "stdout",
          "text": [
            "Model: \"gated_decopupled_model\"\n",
            "__________________________________________________________________________________________________\n",
            " Layer (type)                   Output Shape         Param #     Connected to                     \n",
            "==================================================================================================\n",
            " input_6 (InputLayer)           [(None, 784)]        0           []                               \n",
            "                                                                                                  \n",
            " feature_network_L_1 (Dense)    (None, 128)          100480      ['input_6[0][0]']                \n",
            "                                                                                                  \n",
            " value_intermediate_L_1 (Dense)  (None, 128)         100480      ['input_6[0][0]']                \n",
            "                                                                                                  \n",
            " SpecialActivation_soft (Activa  (None, 128)         0           ['feature_network_L_1[0][0]']    \n",
            " tion)                                                                                            \n",
            "                                                                                                  \n",
            " activation_41 (Activation)     (None, 128)          0           ['feature_network_L_1[0][0]']    \n",
            "                                                                                                  \n",
            " multiply_25 (Multiply)         (None, 128)          0           ['value_intermediate_L_1[0][0]', \n",
            "                                                                  'SpecialActivation_soft[0][0]'] \n",
            "                                                                                                  \n",
            " feature_network_L_2 (Dense)    (None, 128)          16512       ['activation_41[0][0]']          \n",
            "                                                                                                  \n",
            " value_intermediate_L_2 (Dense)  (None, 128)         16512       ['multiply_25[0][0]']            \n",
            "                                                                                                  \n",
            " activation_45 (Activation)     (None, 128)          0           ['feature_network_L_2[0][0]']    \n",
            "                                                                                                  \n",
            " activation_43 (Activation)     (None, 128)          0           ['feature_network_L_2[0][0]']    \n",
            "                                                                                                  \n",
            " multiply_L_2 (Multiply)        (None, 128)          0           ['value_intermediate_L_2[0][0]', \n",
            "                                                                  'activation_45[0][0]']          \n",
            "                                                                                                  \n",
            " feature_network_L_3 (Dense)    (None, 128)          16512       ['activation_43[0][0]']          \n",
            "                                                                                                  \n",
            " value_intermediate_L_3 (Dense)  (None, 128)         16512       ['multiply_L_2[0][0]']           \n",
            "                                                                                                  \n",
            " activation_48 (Activation)     (None, 128)          0           ['feature_network_L_3[0][0]']    \n",
            "                                                                                                  \n",
            " activation_46 (Activation)     (None, 128)          0           ['feature_network_L_3[0][0]']    \n",
            "                                                                                                  \n",
            " multiply_L_3 (Multiply)        (None, 128)          0           ['value_intermediate_L_3[0][0]', \n",
            "                                                                  'activation_48[0][0]']          \n",
            "                                                                                                  \n",
            " feature_network_L_4 (Dense)    (None, 128)          16512       ['activation_46[0][0]']          \n",
            "                                                                                                  \n",
            " value_intermediate_L_4 (Dense)  (None, 128)         16512       ['multiply_L_3[0][0]']           \n",
            "                                                                                                  \n",
            " activation_51 (Activation)     (None, 128)          0           ['feature_network_L_4[0][0]']    \n",
            "                                                                                                  \n",
            " activation_49 (Activation)     (None, 128)          0           ['feature_network_L_4[0][0]']    \n",
            "                                                                                                  \n",
            " multiply_L_4 (Multiply)        (None, 128)          0           ['value_intermediate_L_4[0][0]', \n",
            "                                                                  'activation_51[0][0]']          \n",
            "                                                                                                  \n",
            " feature_network_L_5 (Dense)    (None, 128)          16512       ['activation_49[0][0]']          \n",
            "                                                                                                  \n",
            " value_intermediate_L_5 (Dense)  (None, 128)         16512       ['multiply_L_4[0][0]']           \n",
            "                                                                                                  \n",
            " activation_54 (Activation)     (None, 128)          0           ['feature_network_L_5[0][0]']    \n",
            "                                                                                                  \n",
            " multiply_L_5 (Multiply)        (None, 128)          0           ['value_intermediate_L_5[0][0]', \n",
            "                                                                  'activation_54[0][0]']          \n",
            "                                                                                                  \n",
            " layer_relu6 (Dense)            (None, 10)           1290        ['multiply_L_5[0][0]']           \n",
            "                                                                                                  \n",
            "==================================================================================================\n",
            "Total params: 334,346\n",
            "Trainable params: 334,346\n",
            "Non-trainable params: 0\n",
            "__________________________________________________________________________________________________\n",
            "[<keras.engine.input_layer.InputLayer object at 0x7f6ed3e15490>, <keras.layers.core.dense.Dense object at 0x7f6ed3d91cd0>, <keras.layers.core.dense.Dense object at 0x7f6ed6073890>, <keras.layers.core.activation.Activation object at 0x7f6ed3fc2a50>, <keras.layers.core.activation.Activation object at 0x7f6ed3d34890>, <keras.layers.merge.Multiply object at 0x7f6ed3d1a410>, <keras.layers.core.dense.Dense object at 0x7f6ed3d75ed0>, <keras.layers.core.dense.Dense object at 0x7f6ed3d4a750>, <keras.layers.core.activation.Activation object at 0x7f6ed3da5e10>, <keras.layers.core.activation.Activation object at 0x7f6ed6087e90>, <keras.layers.merge.Multiply object at 0x7f6ed3d52350>, <keras.layers.core.dense.Dense object at 0x7f6ed3ce5450>, <keras.layers.core.dense.Dense object at 0x7f6ed3ce55d0>, <keras.layers.core.activation.Activation object at 0x7f6ed3d9b850>, <keras.layers.core.activation.Activation object at 0x7f6ed3d87650>, <keras.layers.merge.Multiply object at 0x7f6ed3ce3f90>, <keras.layers.core.dense.Dense object at 0x7f6ed3cf3e10>, <keras.layers.core.dense.Dense object at 0x7f6ed3d02450>, <keras.layers.core.activation.Activation object at 0x7f6ed3d31590>, <keras.layers.core.activation.Activation object at 0x7f6ed3d02750>, <keras.layers.merge.Multiply object at 0x7f6ed3cf8cd0>, <keras.layers.core.dense.Dense object at 0x7f6ed3d099d0>, <keras.layers.core.dense.Dense object at 0x7f6ed3d0ee10>, <keras.layers.core.activation.Activation object at 0x7f6ed3cf8910>, <keras.layers.merge.Multiply object at 0x7f6ed3d06f10>, <keras.layers.core.dense.Dense object at 0x7f6ed3d028d0>]\n",
            "Epoch 1/5\n",
            "1875/1875 [==============================] - 13s 6ms/step - loss: 0.2581 - accuracy: 0.9240 - val_loss: 0.1221 - val_accuracy: 0.9616\n",
            "Epoch 2/5\n",
            "1875/1875 [==============================] - 12s 6ms/step - loss: 0.1021 - accuracy: 0.9697 - val_loss: 0.0926 - val_accuracy: 0.9717\n",
            "Epoch 3/5\n",
            "1875/1875 [==============================] - 12s 6ms/step - loss: 0.0675 - accuracy: 0.9781 - val_loss: 0.0884 - val_accuracy: 0.9729\n",
            "Epoch 4/5\n",
            "1875/1875 [==============================] - 12s 6ms/step - loss: 0.0506 - accuracy: 0.9842 - val_loss: 0.0874 - val_accuracy: 0.9755\n",
            "Epoch 5/5\n",
            "1875/1875 [==============================] - 12s 6ms/step - loss: 0.0397 - accuracy: 0.9869 - val_loss: 0.0947 - val_accuracy: 0.9748\n"
          ]
        },
        {
          "output_type": "execute_result",
          "data": {
            "text/plain": [
              "<keras.callbacks.History at 0x7f6ed3cd6110>"
            ]
          },
          "metadata": {},
          "execution_count": 27
        }
      ]
    },
    {
      "cell_type": "markdown",
      "source": [
        "FLNPF_INDEPENDENT_INITIALIZATION"
      ],
      "metadata": {
        "id": "si1wrtgeuHRm"
      }
    },
    {
      "cell_type": "code",
      "execution_count": null,
      "metadata": {
        "id": "N07A4K0tcvLx"
      },
      "outputs": [],
      "source": [
        "import tensorflow as tf\n",
        "if __name__==\"__main__\":\n",
        "  trainX,trainY,testX,testY=load_data()\n",
        "  model=FLNPF_II(6,128,784,10)\n",
        "  layer=model.model.layers\n",
        "  layers=[]\n",
        "  for l in layer:\n",
        "    if l.name[0]=='f':\n",
        "      l.trainable=False\n",
        "  model.model.summary()\n",
        "  print(model.model.layers)\n",
        "  model.model.compile(\n",
        "  optimizer=tf.keras.optimizers.Adam(0.0003),  # Optimizer\n",
        "  loss=\"categorical_crossentropy\", metrics=\"accuracy\")\n",
        "  model.model.fit(trainX,trainY,epochs=5,batch_size=32,validation_data=(testX,testY))\n"
      ]
    },
    {
      "cell_type": "markdown",
      "source": [
        "flnpf_dependent_initialization"
      ],
      "metadata": {
        "id": "NY-NpPgzuyjb"
      }
    },
    {
      "cell_type": "code",
      "source": [
        "trainX,trainY,testX,testY=load_data()\n",
        "model=FLNPF_II(6,128,784,10)\n",
        "layer=model.model.layers\n",
        "layers_value=[]\n",
        "layers_feature=[]\n",
        "for l in layer:\n",
        "  if l.name[0]=='f':\n",
        "    layers_feature.append(l)\n",
        "  elif l.name[0]=='v':\n",
        "    layers_value.append(l)\n",
        "for l_1 in layer:\n",
        "  if l_1.name[0]=='f':\n",
        "    l_1.trainable=False\n",
        "model.model.compile(\n",
        "optimizer=tf.keras.optimizers.Adam(0.0003),  # Optimizer\n",
        "loss=\"categorical_crossentropy\", metrics=\"accuracy\")\n",
        "for l1,l2 in zip(layers_value,layers_feature):\n",
        "  l1.set_weights(l2.get_weights())\n",
        "model.model.summary()\n",
        "print(model.model.layers)\n",
        "model.model.fit(trainX,trainY,epochs=5,batch_size=32,validation_data=(testX,testY))"
      ],
      "metadata": {
        "id": "FLgEXxA6upm7"
      },
      "execution_count": null,
      "outputs": []
    },
    {
      "cell_type": "markdown",
      "source": [
        "simple FLNPF"
      ],
      "metadata": {
        "id": "JuLaRL_txW1y"
      }
    },
    {
      "cell_type": "code",
      "execution_count": 29,
      "metadata": {
        "id": "pUH-_oKZcvSy",
        "colab": {
          "base_uri": "https://localhost:8080/"
        },
        "outputId": "909ef983-2bfa-48b8-b408-6e50a69e63e9"
      },
      "outputs": [
        {
          "output_type": "stream",
          "name": "stdout",
          "text": [
            "Epoch 1/5\n",
            "1875/1875 [==============================] - 9s 4ms/step - loss: 0.3100 - accuracy: 0.9069 - val_loss: 0.1393 - val_accuracy: 0.9569\n",
            "Epoch 2/5\n",
            "1875/1875 [==============================] - 8s 4ms/step - loss: 0.1192 - accuracy: 0.9638 - val_loss: 0.1077 - val_accuracy: 0.9663\n",
            "Epoch 3/5\n",
            "1875/1875 [==============================] - 8s 4ms/step - loss: 0.0860 - accuracy: 0.9739 - val_loss: 0.1028 - val_accuracy: 0.9676\n",
            "Epoch 4/5\n",
            "1875/1875 [==============================] - 8s 4ms/step - loss: 0.0660 - accuracy: 0.9793 - val_loss: 0.1007 - val_accuracy: 0.9698\n",
            "Epoch 5/5\n",
            "1875/1875 [==============================] - 8s 4ms/step - loss: 0.0513 - accuracy: 0.9839 - val_loss: 0.0877 - val_accuracy: 0.9750\n",
            "Model: \"simple_relu\"\n",
            "_________________________________________________________________\n",
            " Layer (type)                Output Shape              Param #   \n",
            "=================================================================\n",
            " input_8 (InputLayer)        [(None, 784)]             0         \n",
            "                                                                 \n",
            " layer_relu_1 (Dense)        (None, 128)               100480    \n",
            "                                                                 \n",
            " layer_relu2 (Dense)         (None, 128)               16512     \n",
            "                                                                 \n",
            " layer_relu3 (Dense)         (None, 128)               16512     \n",
            "                                                                 \n",
            " layer_relu4 (Dense)         (None, 128)               16512     \n",
            "                                                                 \n",
            " layer_relu5 (Dense)         (None, 128)               16512     \n",
            "                                                                 \n",
            " output6 (Dense)             (None, 10)                1290      \n",
            "                                                                 \n",
            "=================================================================\n",
            "Total params: 167,818\n",
            "Trainable params: 167,818\n",
            "Non-trainable params: 0\n",
            "_________________________________________________________________\n",
            "[<keras.engine.input_layer.InputLayer object at 0x7f6ecd728590>, <keras.layers.core.dense.Dense object at 0x7f6ecd728f90>, <keras.layers.core.dense.Dense object at 0x7f6ed3a1a190>, <keras.layers.core.dense.Dense object at 0x7f6ed398c2d0>, <keras.layers.core.dense.Dense object at 0x7f6ed3aab610>, <keras.layers.core.dense.Dense object at 0x7f6ecd71d5d0>, <keras.layers.core.dense.Dense object at 0x7f6ecd70d3d0>]\n",
            "Epoch 1/5\n",
            "1875/1875 [==============================] - 45s 24ms/step - loss: 0.1008 - accuracy: 0.9742 - val_loss: 0.0983 - val_accuracy: 0.9746\n",
            "Epoch 2/5\n",
            "1875/1875 [==============================] - 9s 5ms/step - loss: 0.0332 - accuracy: 0.9900 - val_loss: 0.1042 - val_accuracy: 0.9753\n",
            "Epoch 3/5\n",
            "1875/1875 [==============================] - 9s 5ms/step - loss: 0.0222 - accuracy: 0.9931 - val_loss: 0.0993 - val_accuracy: 0.9762\n",
            "Epoch 4/5\n",
            "1875/1875 [==============================] - 9s 5ms/step - loss: 0.0135 - accuracy: 0.9956 - val_loss: 0.1204 - val_accuracy: 0.9772\n",
            "Epoch 5/5\n",
            "1875/1875 [==============================] - 9s 5ms/step - loss: 0.0094 - accuracy: 0.9970 - val_loss: 0.1412 - val_accuracy: 0.9757\n"
          ]
        },
        {
          "output_type": "execute_result",
          "data": {
            "text/plain": [
              "<keras.callbacks.History at 0x7f6ecd49bf10>"
            ]
          },
          "metadata": {},
          "execution_count": 29
        }
      ],
      "source": [
        "trainX,trainY,testX,testY=load_data()\n",
        "model=Simple_Relu(6,128,784,10)\n",
        "model.model.compile(\n",
        "optimizer=tf.keras.optimizers.Adam(0.0003),  # Optimizer\n",
        "loss=\"categorical_crossentropy\", metrics=\"accuracy\")\n",
        "filepath=\"weights.best.hdf5\"\n",
        "checkpoint = ModelCheckpoint(filepath, monitor='val_accuracy', verbose=0, save_best_only=True, mode='max')\n",
        "callbacks_list = [checkpoint]\n",
        "model.model.fit(trainX,trainY,epochs=5,batch_size=32,validation_data=(testX,testY),callbacks=callbacks_list)\n",
        "model.model.load_weights(\"weights.best.hdf5\")\n",
        "layer_relu=model.model.layers\n",
        "model_npf=FLNPF_II(6,128,784,10)\n",
        "layer_npf=model_npf.model.layers\n",
        "\n",
        "layers_relu=[]\n",
        "layers_feature=[]\n",
        "for l in layer_relu:\n",
        "  if l.name[0]=='l':\n",
        "    layers_relu.append(l)\n",
        "for l in layer_npf :\n",
        "  if l.name[0]=='f':\n",
        "    layers_feature.append(l)\n",
        "for l in layer_npf:\n",
        "  if l.name[0]=='f':\n",
        "    l.trainable=False\n",
        "for l1,l2 in zip(layers_relu,layers_feature):\n",
        "  l2.set_weights(l1.get_weights())\n",
        "model_npf.model.compile(\n",
        "optimizer=tf.keras.optimizers.Adam(0.0003),  # Optimizer\n",
        "loss=\"categorical_crossentropy\", metrics=\"accuracy\")\n",
        "model.model.summary()\n",
        "print(model.model.layers)\n",
        "model_npf.model.fit(trainX,trainY,epochs=5,batch_size=32,validation_data=(testX,testY))"
      ]
    }
  ],
  "metadata": {
    "colab": {
      "name": "MTP_PART1.ipynb",
      "provenance": []
    },
    "kernelspec": {
      "display_name": "Python 3",
      "name": "python3"
    },
    "language_info": {
      "name": "python"
    }
  },
  "nbformat": 4,
  "nbformat_minor": 0
}
